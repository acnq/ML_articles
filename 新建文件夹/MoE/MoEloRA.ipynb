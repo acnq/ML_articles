{
 "cells": [
  {
   "cell_type": "markdown",
   "metadata": {},
   "source": [
    "## MoE"
   ]
  },
  {
   "cell_type": "code",
   "execution_count": 6,
   "metadata": {},
   "outputs": [],
   "source": [
    "import torch\n",
    "import torch.nn as nn \n",
    "import torch.nn.functional as F \n",
    "\n",
    "class Linear(nn.Module):\n",
    "  def __init__(self, in_features, out_features):\n",
    "    super(Linear, self).__init__()\n",
    "    self.fc = nn.Linear(in_features, out_features)\n",
    "    \n",
    "  def forward(self, x):\n",
    "    return self.fc(x)\n",
    "  \n",
    "class MoELayer(nn.Module):\n",
    "  def __init__(self, num_experts, in_features, out_features):\n",
    "    super(MoELayer, self).__init__()\n",
    "    self.num_experts = num_experts\n",
    "    self.experts = nn.ModuleList([Linear(in_features, out_features) for _ in range(num_experts)])\n",
    "    self.gate = nn.Linear(in_features, num_experts)\n",
    "    \n",
    "  def forward(self, x):\n",
    "    gate_score = F.softmax(self.gate(x), dim=-1)\n",
    "    expert_outputs = torch.stack([expert(x) for expert in self.experts], dim=1)\n",
    "    output = torch.bmm(gate_score.unsqueeze(1), expert_outputs).squeeze(1)\n",
    "    return output"
   ]
  },
  {
   "cell_type": "code",
   "execution_count": 7,
   "metadata": {},
   "outputs": [
    {
     "name": "stdout",
     "output_type": "stream",
     "text": [
      "torch.Size([10, 3])\n"
     ]
    }
   ],
   "source": [
    "input_size = 5\n",
    "output_size = 3\n",
    "num_experts = 4\n",
    "batch_size = 10\n",
    "\n",
    "model = MoELayer(num_experts, input_size, output_size)\n",
    "\n",
    "demo = torch.randn(batch_size, input_size)\n",
    "\n",
    "output = model(demo)\n",
    "\n",
    "print(output.shape) # torch.Size([10, 3])\n"
   ]
  },
  {
   "cell_type": "markdown",
   "metadata": {},
   "source": []
  }
 ],
 "metadata": {
  "kernelspec": {
   "display_name": "autoML",
   "language": "python",
   "name": "python3"
  },
  "language_info": {
   "codemirror_mode": {
    "name": "ipython",
    "version": 3
   },
   "file_extension": ".py",
   "mimetype": "text/x-python",
   "name": "python",
   "nbconvert_exporter": "python",
   "pygments_lexer": "ipython3",
   "version": "3.9.21"
  }
 },
 "nbformat": 4,
 "nbformat_minor": 2
}
